{
 "cells": [
  {
   "cell_type": "markdown",
   "metadata": {},
   "source": [
    "# Analyzing Naira Land Data"
   ]
  },
  {
   "cell_type": "markdown",
   "metadata": {},
   "source": [
    "[Nairaland](https://www.nairaland.com/) is an an online community created by Seun Osewa in March 2005. This project offers to analyze posts on Nairaland from March 25 2005 till July 14 2007. The dataset can be found [here](https://t.co/jDYvZref1S?amp=1)."
   ]
  },
  {
   "cell_type": "code",
   "execution_count": 1,
   "metadata": {},
   "outputs": [],
   "source": [
    "#import some useful libraries\n",
    "\n",
    "import pandas as pd\n",
    "import numpy as np"
   ]
  },
  {
   "cell_type": "code",
   "execution_count": 2,
   "metadata": {},
   "outputs": [
    {
     "data": {
      "text/html": [
       "<div>\n",
       "<style scoped>\n",
       "    .dataframe tbody tr th:only-of-type {\n",
       "        vertical-align: middle;\n",
       "    }\n",
       "\n",
       "    .dataframe tbody tr th {\n",
       "        vertical-align: top;\n",
       "    }\n",
       "\n",
       "    .dataframe thead th {\n",
       "        text-align: right;\n",
       "    }\n",
       "</style>\n",
       "<table border=\"1\" class=\"dataframe\">\n",
       "  <thead>\n",
       "    <tr style=\"text-align: right;\">\n",
       "      <th></th>\n",
       "      <th>_id</th>\n",
       "      <th>class_</th>\n",
       "      <th>comments</th>\n",
       "      <th>topic</th>\n",
       "      <th>topic_id</th>\n",
       "      <th>url</th>\n",
       "      <th>view_count</th>\n",
       "    </tr>\n",
       "  </thead>\n",
       "  <tbody>\n",
       "    <tr>\n",
       "      <th>0</th>\n",
       "      <td>{'$oid': '5ddd27c829bb729ddffd726a'}</td>\n",
       "      <td>[ TV, Movies  ,  Low-cost Digital Cable in Nig...</td>\n",
       "      <td>[{'user': 'kodewrita', 'timestamp': '4:39pm On...</td>\n",
       "      <td>Low-cost Digital Cable in Nigeria - TV/Movies ...</td>\n",
       "      <td>18</td>\n",
       "      <td>https://www.nairaland.com/18/low-cost-digital-...</td>\n",
       "      <td>7821</td>\n",
       "    </tr>\n",
       "    <tr>\n",
       "      <th>1</th>\n",
       "      <td>{'$oid': '5ddd27c929bb729ddffd726b'}</td>\n",
       "      <td>[ General ,  Religion  ,  Praying Amiss (3459 ...</td>\n",
       "      <td>[{'user': 'kodewrita', 'timestamp': '6:11pm On...</td>\n",
       "      <td>Praying Amiss - Religion - Nigeria</td>\n",
       "      <td>20</td>\n",
       "      <td>https://www.nairaland.com/20/praying-amiss</td>\n",
       "      <td>3459</td>\n",
       "    </tr>\n",
       "    <tr>\n",
       "      <th>2</th>\n",
       "      <td>{'$oid': '5ddd27c929bb729ddffd726c'}</td>\n",
       "      <td>[ General ,  Family  ,  Family Relationship (4...</td>\n",
       "      <td>[{'user': 'Chigszy', 'timestamp': '6:37pm On M...</td>\n",
       "      <td>Family Relationship - Family - Nigeria</td>\n",
       "      <td>14</td>\n",
       "      <td>https://www.nairaland.com/14/family-relationship</td>\n",
       "      <td>4847</td>\n",
       "    </tr>\n",
       "    <tr>\n",
       "      <th>3</th>\n",
       "      <td>{'$oid': '5ddd27cc29bb729ddffd726d'}</td>\n",
       "      <td>[ General  ,  New Members, Introduce Yourselve...</td>\n",
       "      <td>[{'user': 'dominobaby', 'timestamp': '1:51pm O...</td>\n",
       "      <td>New Members, Introduce Yourselves! - Nairaland...</td>\n",
       "      <td>15</td>\n",
       "      <td>https://www.nairaland.com/15/new-members-intro...</td>\n",
       "      <td>4423</td>\n",
       "    </tr>\n",
       "    <tr>\n",
       "      <th>4</th>\n",
       "      <td>{'$oid': '5ddd27d029bb729ddffd726e'}</td>\n",
       "      <td>[ General ,  Family  ,  Domesticating Nigerian...</td>\n",
       "      <td>[{'user': 'Chigszy', 'timestamp': '2:33am On M...</td>\n",
       "      <td>Domesticating Nigerian Men - Family - Nigeria</td>\n",
       "      <td>19</td>\n",
       "      <td>https://www.nairaland.com/19/domesticating-nig...</td>\n",
       "      <td>10305</td>\n",
       "    </tr>\n",
       "  </tbody>\n",
       "</table>\n",
       "</div>"
      ],
      "text/plain": [
       "                                    _id  \\\n",
       "0  {'$oid': '5ddd27c829bb729ddffd726a'}   \n",
       "1  {'$oid': '5ddd27c929bb729ddffd726b'}   \n",
       "2  {'$oid': '5ddd27c929bb729ddffd726c'}   \n",
       "3  {'$oid': '5ddd27cc29bb729ddffd726d'}   \n",
       "4  {'$oid': '5ddd27d029bb729ddffd726e'}   \n",
       "\n",
       "                                              class_  \\\n",
       "0  [ TV, Movies  ,  Low-cost Digital Cable in Nig...   \n",
       "1  [ General ,  Religion  ,  Praying Amiss (3459 ...   \n",
       "2  [ General ,  Family  ,  Family Relationship (4...   \n",
       "3  [ General  ,  New Members, Introduce Yourselve...   \n",
       "4  [ General ,  Family  ,  Domesticating Nigerian...   \n",
       "\n",
       "                                            comments  \\\n",
       "0  [{'user': 'kodewrita', 'timestamp': '4:39pm On...   \n",
       "1  [{'user': 'kodewrita', 'timestamp': '6:11pm On...   \n",
       "2  [{'user': 'Chigszy', 'timestamp': '6:37pm On M...   \n",
       "3  [{'user': 'dominobaby', 'timestamp': '1:51pm O...   \n",
       "4  [{'user': 'Chigszy', 'timestamp': '2:33am On M...   \n",
       "\n",
       "                                               topic  topic_id  \\\n",
       "0  Low-cost Digital Cable in Nigeria - TV/Movies ...        18   \n",
       "1                 Praying Amiss - Religion - Nigeria        20   \n",
       "2             Family Relationship - Family - Nigeria        14   \n",
       "3  New Members, Introduce Yourselves! - Nairaland...        15   \n",
       "4      Domesticating Nigerian Men - Family - Nigeria        19   \n",
       "\n",
       "                                                 url  view_count  \n",
       "0  https://www.nairaland.com/18/low-cost-digital-...        7821  \n",
       "1         https://www.nairaland.com/20/praying-amiss        3459  \n",
       "2   https://www.nairaland.com/14/family-relationship        4847  \n",
       "3  https://www.nairaland.com/15/new-members-intro...        4423  \n",
       "4  https://www.nairaland.com/19/domesticating-nig...       10305  "
      ]
     },
     "execution_count": 2,
     "metadata": {},
     "output_type": "execute_result"
    }
   ],
   "source": [
    "#Read in the dataset\n",
    "\n",
    "data = pd.read_json('nairaland-50k.json')\n",
    "data.head()"
   ]
  },
  {
   "cell_type": "code",
   "execution_count": 3,
   "metadata": {},
   "outputs": [
    {
     "name": "stdout",
     "output_type": "stream",
     "text": [
      "<class 'pandas.core.frame.DataFrame'>\n",
      "RangeIndex: 50000 entries, 0 to 49999\n",
      "Data columns (total 7 columns):\n",
      "_id           50000 non-null object\n",
      "class_        50000 non-null object\n",
      "comments      49999 non-null object\n",
      "topic         50000 non-null object\n",
      "topic_id      50000 non-null int64\n",
      "url           50000 non-null object\n",
      "view_count    50000 non-null int64\n",
      "dtypes: int64(2), object(5)\n",
      "memory usage: 2.7+ MB\n"
     ]
    }
   ],
   "source": [
    "data.info()"
   ]
  },
  {
   "cell_type": "code",
   "execution_count": 4,
   "metadata": {},
   "outputs": [
    {
     "data": {
      "text/plain": [
       "48110"
      ]
     },
     "execution_count": 4,
     "metadata": {},
     "output_type": "execute_result"
    }
   ],
   "source": [
    "len(set(data['topic']))"
   ]
  },
  {
   "cell_type": "markdown",
   "metadata": {},
   "source": [
    "### Details:\n",
    "\n",
    "- _The dataset contains 50,000 rows and 7 columns with a 400+ mb size._\n",
    "- _There are over 48,000 unique topics in this dataset_\n",
    "- _There is one nan value in the comments column_\n",
    "- _There are two numerical columns, topic-id and view-count_"
   ]
  },
  {
   "cell_type": "code",
   "execution_count": 5,
   "metadata": {},
   "outputs": [
    {
     "data": {
      "text/html": [
       "<div>\n",
       "<style scoped>\n",
       "    .dataframe tbody tr th:only-of-type {\n",
       "        vertical-align: middle;\n",
       "    }\n",
       "\n",
       "    .dataframe tbody tr th {\n",
       "        vertical-align: top;\n",
       "    }\n",
       "\n",
       "    .dataframe thead th {\n",
       "        text-align: right;\n",
       "    }\n",
       "</style>\n",
       "<table border=\"1\" class=\"dataframe\">\n",
       "  <thead>\n",
       "    <tr style=\"text-align: right;\">\n",
       "      <th></th>\n",
       "      <th>_id</th>\n",
       "      <th>class_</th>\n",
       "      <th>comments</th>\n",
       "      <th>topic</th>\n",
       "      <th>topic_id</th>\n",
       "      <th>url</th>\n",
       "      <th>view_count</th>\n",
       "    </tr>\n",
       "  </thead>\n",
       "  <tbody>\n",
       "    <tr>\n",
       "      <th>29043</th>\n",
       "      <td>{'$oid': '5ddd7aad29bb729ddffde3dd'}</td>\n",
       "      <td>[ General ,  Jobs, Vacancies  ,  Help On Ibtc ...</td>\n",
       "      <td>NaN</td>\n",
       "      <td>Help On Ibtc Bank Aptitude Test Format ?{ Chee...</td>\n",
       "      <td>38383</td>\n",
       "      <td>https://www.nairaland.com/38383/ibtc-bank-apti...</td>\n",
       "      <td>852</td>\n",
       "    </tr>\n",
       "  </tbody>\n",
       "</table>\n",
       "</div>"
      ],
      "text/plain": [
       "                                        _id  \\\n",
       "29043  {'$oid': '5ddd7aad29bb729ddffde3dd'}   \n",
       "\n",
       "                                                  class_ comments  \\\n",
       "29043  [ General ,  Jobs, Vacancies  ,  Help On Ibtc ...      NaN   \n",
       "\n",
       "                                                   topic  topic_id  \\\n",
       "29043  Help On Ibtc Bank Aptitude Test Format ?{ Chee...     38383   \n",
       "\n",
       "                                                     url  view_count  \n",
       "29043  https://www.nairaland.com/38383/ibtc-bank-apti...         852  "
      ]
     },
     "execution_count": 5,
     "metadata": {},
     "output_type": "execute_result"
    }
   ],
   "source": [
    "data[data['comments'].isna()]"
   ]
  },
  {
   "cell_type": "code",
   "execution_count": 6,
   "metadata": {},
   "outputs": [
    {
     "data": {
      "text/plain": [
       "29043    https://www.nairaland.com/38383/ibtc-bank-apti...\n",
       "Name: url, dtype: object"
      ]
     },
     "execution_count": 6,
     "metadata": {},
     "output_type": "execute_result"
    }
   ],
   "source": [
    "data[data['comments'].isna()]['url']"
   ]
  },
  {
   "cell_type": "markdown",
   "metadata": {},
   "source": [
    "## Nan Value\n",
    "\n",
    "At the time this dataset was obtained, this [post](https://www.nairaland.com/38383/ibtc-bank-apti...) had no comment. We will remove this from the dataset as it doesn't provide much of an insight."
   ]
  },
  {
   "cell_type": "code",
   "execution_count": 7,
   "metadata": {},
   "outputs": [
    {
     "data": {
      "text/plain": [
       "_id           0\n",
       "class_        0\n",
       "comments      0\n",
       "topic         0\n",
       "topic_id      0\n",
       "url           0\n",
       "view_count    0\n",
       "dtype: int64"
      ]
     },
     "execution_count": 7,
     "metadata": {},
     "output_type": "execute_result"
    }
   ],
   "source": [
    "#Drop na row\n",
    "data.dropna(inplace=True)\n",
    "\n",
    "#confirm no more nan values in dataset\n",
    "data.isna().sum()"
   ]
  },
  {
   "cell_type": "markdown",
   "metadata": {},
   "source": [
    "## Gaining Further Insights"
   ]
  },
  {
   "cell_type": "code",
   "execution_count": 8,
   "metadata": {},
   "outputs": [
    {
     "data": {
      "text/html": [
       "<div>\n",
       "<style scoped>\n",
       "    .dataframe tbody tr th:only-of-type {\n",
       "        vertical-align: middle;\n",
       "    }\n",
       "\n",
       "    .dataframe tbody tr th {\n",
       "        vertical-align: top;\n",
       "    }\n",
       "\n",
       "    .dataframe thead th {\n",
       "        text-align: right;\n",
       "    }\n",
       "</style>\n",
       "<table border=\"1\" class=\"dataframe\">\n",
       "  <thead>\n",
       "    <tr style=\"text-align: right;\">\n",
       "      <th></th>\n",
       "      <th>_id</th>\n",
       "      <th>class_</th>\n",
       "      <th>comments</th>\n",
       "      <th>topic</th>\n",
       "      <th>topic_id</th>\n",
       "      <th>url</th>\n",
       "      <th>view_count</th>\n",
       "      <th>no_comm</th>\n",
       "    </tr>\n",
       "  </thead>\n",
       "  <tbody>\n",
       "    <tr>\n",
       "      <th>0</th>\n",
       "      <td>{'$oid': '5ddd27c829bb729ddffd726a'}</td>\n",
       "      <td>[ TV, Movies  ,  Low-cost Digital Cable in Nig...</td>\n",
       "      <td>[{'user': 'kodewrita', 'timestamp': '4:39pm On...</td>\n",
       "      <td>Low-cost Digital Cable in Nigeria - TV/Movies ...</td>\n",
       "      <td>18</td>\n",
       "      <td>https://www.nairaland.com/18/low-cost-digital-...</td>\n",
       "      <td>7821</td>\n",
       "      <td>18</td>\n",
       "    </tr>\n",
       "    <tr>\n",
       "      <th>1</th>\n",
       "      <td>{'$oid': '5ddd27c929bb729ddffd726b'}</td>\n",
       "      <td>[ General ,  Religion  ,  Praying Amiss (3459 ...</td>\n",
       "      <td>[{'user': 'kodewrita', 'timestamp': '6:11pm On...</td>\n",
       "      <td>Praying Amiss - Religion - Nigeria</td>\n",
       "      <td>20</td>\n",
       "      <td>https://www.nairaland.com/20/praying-amiss</td>\n",
       "      <td>3459</td>\n",
       "      <td>5</td>\n",
       "    </tr>\n",
       "    <tr>\n",
       "      <th>2</th>\n",
       "      <td>{'$oid': '5ddd27c929bb729ddffd726c'}</td>\n",
       "      <td>[ General ,  Family  ,  Family Relationship (4...</td>\n",
       "      <td>[{'user': 'Chigszy', 'timestamp': '6:37pm On M...</td>\n",
       "      <td>Family Relationship - Family - Nigeria</td>\n",
       "      <td>14</td>\n",
       "      <td>https://www.nairaland.com/14/family-relationship</td>\n",
       "      <td>4847</td>\n",
       "      <td>12</td>\n",
       "    </tr>\n",
       "    <tr>\n",
       "      <th>3</th>\n",
       "      <td>{'$oid': '5ddd27cc29bb729ddffd726d'}</td>\n",
       "      <td>[ General  ,  New Members, Introduce Yourselve...</td>\n",
       "      <td>[{'user': 'dominobaby', 'timestamp': '1:51pm O...</td>\n",
       "      <td>New Members, Introduce Yourselves! - Nairaland...</td>\n",
       "      <td>15</td>\n",
       "      <td>https://www.nairaland.com/15/new-members-intro...</td>\n",
       "      <td>4423</td>\n",
       "      <td>155</td>\n",
       "    </tr>\n",
       "    <tr>\n",
       "      <th>4</th>\n",
       "      <td>{'$oid': '5ddd27d029bb729ddffd726e'}</td>\n",
       "      <td>[ General ,  Family  ,  Domesticating Nigerian...</td>\n",
       "      <td>[{'user': 'Chigszy', 'timestamp': '2:33am On M...</td>\n",
       "      <td>Domesticating Nigerian Men - Family - Nigeria</td>\n",
       "      <td>19</td>\n",
       "      <td>https://www.nairaland.com/19/domesticating-nig...</td>\n",
       "      <td>10305</td>\n",
       "      <td>192</td>\n",
       "    </tr>\n",
       "  </tbody>\n",
       "</table>\n",
       "</div>"
      ],
      "text/plain": [
       "                                    _id  \\\n",
       "0  {'$oid': '5ddd27c829bb729ddffd726a'}   \n",
       "1  {'$oid': '5ddd27c929bb729ddffd726b'}   \n",
       "2  {'$oid': '5ddd27c929bb729ddffd726c'}   \n",
       "3  {'$oid': '5ddd27cc29bb729ddffd726d'}   \n",
       "4  {'$oid': '5ddd27d029bb729ddffd726e'}   \n",
       "\n",
       "                                              class_  \\\n",
       "0  [ TV, Movies  ,  Low-cost Digital Cable in Nig...   \n",
       "1  [ General ,  Religion  ,  Praying Amiss (3459 ...   \n",
       "2  [ General ,  Family  ,  Family Relationship (4...   \n",
       "3  [ General  ,  New Members, Introduce Yourselve...   \n",
       "4  [ General ,  Family  ,  Domesticating Nigerian...   \n",
       "\n",
       "                                            comments  \\\n",
       "0  [{'user': 'kodewrita', 'timestamp': '4:39pm On...   \n",
       "1  [{'user': 'kodewrita', 'timestamp': '6:11pm On...   \n",
       "2  [{'user': 'Chigszy', 'timestamp': '6:37pm On M...   \n",
       "3  [{'user': 'dominobaby', 'timestamp': '1:51pm O...   \n",
       "4  [{'user': 'Chigszy', 'timestamp': '2:33am On M...   \n",
       "\n",
       "                                               topic  topic_id  \\\n",
       "0  Low-cost Digital Cable in Nigeria - TV/Movies ...        18   \n",
       "1                 Praying Amiss - Religion - Nigeria        20   \n",
       "2             Family Relationship - Family - Nigeria        14   \n",
       "3  New Members, Introduce Yourselves! - Nairaland...        15   \n",
       "4      Domesticating Nigerian Men - Family - Nigeria        19   \n",
       "\n",
       "                                                 url  view_count  no_comm  \n",
       "0  https://www.nairaland.com/18/low-cost-digital-...        7821       18  \n",
       "1         https://www.nairaland.com/20/praying-amiss        3459        5  \n",
       "2   https://www.nairaland.com/14/family-relationship        4847       12  \n",
       "3  https://www.nairaland.com/15/new-members-intro...        4423      155  \n",
       "4  https://www.nairaland.com/19/domesticating-nig...       10305      192  "
      ]
     },
     "execution_count": 8,
     "metadata": {},
     "output_type": "execute_result"
    }
   ],
   "source": [
    "#Create a new column showing the number of comments in each post\n",
    "\n",
    "data['no_comm'] = data['comments'].apply(len)\n",
    "data.head()"
   ]
  },
  {
   "cell_type": "code",
   "execution_count": 9,
   "metadata": {},
   "outputs": [
    {
     "data": {
      "text/plain": [
       "951776"
      ]
     },
     "execution_count": 9,
     "metadata": {},
     "output_type": "execute_result"
    }
   ],
   "source": [
    "np.sum(data['no_comm'])"
   ]
  },
  {
   "cell_type": "markdown",
   "metadata": {},
   "source": [
    "__There are over Nine Hundred and Fifty Thousand Comments in this dataset__"
   ]
  },
  {
   "cell_type": "code",
   "execution_count": 10,
   "metadata": {},
   "outputs": [
    {
     "data": {
      "text/html": [
       "<div>\n",
       "<style scoped>\n",
       "    .dataframe tbody tr th:only-of-type {\n",
       "        vertical-align: middle;\n",
       "    }\n",
       "\n",
       "    .dataframe tbody tr th {\n",
       "        vertical-align: top;\n",
       "    }\n",
       "\n",
       "    .dataframe thead th {\n",
       "        text-align: right;\n",
       "    }\n",
       "</style>\n",
       "<table border=\"1\" class=\"dataframe\">\n",
       "  <thead>\n",
       "    <tr style=\"text-align: right;\">\n",
       "      <th></th>\n",
       "      <th>_id</th>\n",
       "      <th>class_</th>\n",
       "      <th>comments</th>\n",
       "      <th>topic</th>\n",
       "      <th>topic_id</th>\n",
       "      <th>url</th>\n",
       "      <th>view_count</th>\n",
       "      <th>no_comm</th>\n",
       "    </tr>\n",
       "  </thead>\n",
       "  <tbody>\n",
       "    <tr>\n",
       "      <th>763</th>\n",
       "      <td>{'$oid': '5ddd2b7b29bb729ddffd7565'}</td>\n",
       "      <td>[ General  ,  hot-angel, nike4luv, Latoya - th...</td>\n",
       "      <td>[{'user': 'Latoya', 'timestamp': '5:01am On Au...</td>\n",
       "      <td>hot-angel, nike4luv, Latoya - the bootylicious...</td>\n",
       "      <td>1142</td>\n",
       "      <td>https://www.nairaland.com/1142/hot-angel-nike4...</td>\n",
       "      <td>24223</td>\n",
       "      <td>288</td>\n",
       "    </tr>\n",
       "    <tr>\n",
       "      <th>1009</th>\n",
       "      <td>{'$oid': '5ddd2c9c29bb729ddffd765b'}</td>\n",
       "      <td>[ Forum Games  ,  The Chain Word Game (74690 V...</td>\n",
       "      <td>[{'user': 'queen2', 'timestamp': '6:54pm On Au...</td>\n",
       "      <td>The Chain Word Game - Forum Games - Nigeria</td>\n",
       "      <td>1486</td>\n",
       "      <td>https://www.nairaland.com/1486/chain-word-game</td>\n",
       "      <td>74690</td>\n",
       "      <td>288</td>\n",
       "    </tr>\n",
       "    <tr>\n",
       "      <th>3388</th>\n",
       "      <td>{'$oid': '5ddd35ae29bb729ddffd7fa6'}</td>\n",
       "      <td>[ Music, Radio ,  Rap Battles  ,  50 Cent vs J...</td>\n",
       "      <td>[{'user': 'yummy', 'timestamp': '9:13am On Jan...</td>\n",
       "      <td>50 Cent vs Ja Rule: Who Raps Best? &lt;caution&gt; -...</td>\n",
       "      <td>4744</td>\n",
       "      <td>https://www.nairaland.com/4744/50-cent-vs-ja-rule</td>\n",
       "      <td>41333</td>\n",
       "      <td>288</td>\n",
       "    </tr>\n",
       "    <tr>\n",
       "      <th>21695</th>\n",
       "      <td>{'$oid': '5ddd68bd29bb729ddffdc729'}</td>\n",
       "      <td>[ Forum Games  ,  Who Has The Highest Post? (2...</td>\n",
       "      <td>[{'user': 'twinstaiye', 'timestamp': '9:54am O...</td>\n",
       "      <td>Who Has The Highest Post? - Forum Games - Nigeria</td>\n",
       "      <td>29059</td>\n",
       "      <td>https://www.nairaland.com/29059/highest-post</td>\n",
       "      <td>26847</td>\n",
       "      <td>288</td>\n",
       "    </tr>\n",
       "    <tr>\n",
       "      <th>3376</th>\n",
       "      <td>{'$oid': '5ddd35a229bb729ddffd7f9a'}</td>\n",
       "      <td>[ Forum Games  ,  Confessions (87738 Views) ]</td>\n",
       "      <td>[{'user': 'immanuella', 'timestamp': '2:38am O...</td>\n",
       "      <td>Confessions - Forum Games - Nigeria</td>\n",
       "      <td>4724</td>\n",
       "      <td>https://www.nairaland.com/4724/confessions</td>\n",
       "      <td>87738</td>\n",
       "      <td>288</td>\n",
       "    </tr>\n",
       "  </tbody>\n",
       "</table>\n",
       "</div>"
      ],
      "text/plain": [
       "                                        _id  \\\n",
       "763    {'$oid': '5ddd2b7b29bb729ddffd7565'}   \n",
       "1009   {'$oid': '5ddd2c9c29bb729ddffd765b'}   \n",
       "3388   {'$oid': '5ddd35ae29bb729ddffd7fa6'}   \n",
       "21695  {'$oid': '5ddd68bd29bb729ddffdc729'}   \n",
       "3376   {'$oid': '5ddd35a229bb729ddffd7f9a'}   \n",
       "\n",
       "                                                  class_  \\\n",
       "763    [ General  ,  hot-angel, nike4luv, Latoya - th...   \n",
       "1009   [ Forum Games  ,  The Chain Word Game (74690 V...   \n",
       "3388   [ Music, Radio ,  Rap Battles  ,  50 Cent vs J...   \n",
       "21695  [ Forum Games  ,  Who Has The Highest Post? (2...   \n",
       "3376       [ Forum Games  ,  Confessions (87738 Views) ]   \n",
       "\n",
       "                                                comments  \\\n",
       "763    [{'user': 'Latoya', 'timestamp': '5:01am On Au...   \n",
       "1009   [{'user': 'queen2', 'timestamp': '6:54pm On Au...   \n",
       "3388   [{'user': 'yummy', 'timestamp': '9:13am On Jan...   \n",
       "21695  [{'user': 'twinstaiye', 'timestamp': '9:54am O...   \n",
       "3376   [{'user': 'immanuella', 'timestamp': '2:38am O...   \n",
       "\n",
       "                                                   topic  topic_id  \\\n",
       "763    hot-angel, nike4luv, Latoya - the bootylicious...      1142   \n",
       "1009         The Chain Word Game - Forum Games - Nigeria      1486   \n",
       "3388   50 Cent vs Ja Rule: Who Raps Best? <caution> -...      4744   \n",
       "21695  Who Has The Highest Post? - Forum Games - Nigeria     29059   \n",
       "3376                 Confessions - Forum Games - Nigeria      4724   \n",
       "\n",
       "                                                     url  view_count  no_comm  \n",
       "763    https://www.nairaland.com/1142/hot-angel-nike4...       24223      288  \n",
       "1009      https://www.nairaland.com/1486/chain-word-game       74690      288  \n",
       "3388   https://www.nairaland.com/4744/50-cent-vs-ja-rule       41333      288  \n",
       "21695       https://www.nairaland.com/29059/highest-post       26847      288  \n",
       "3376          https://www.nairaland.com/4724/confessions       87738      288  "
      ]
     },
     "execution_count": 10,
     "metadata": {},
     "output_type": "execute_result"
    }
   ],
   "source": [
    "data.sort_values(by = 'no_comm', ascending=False).head()"
   ]
  },
  {
   "cell_type": "markdown",
   "metadata": {},
   "source": [
    "### We see that that there is a tie on the highest number of comments, so I will include number of views"
   ]
  },
  {
   "cell_type": "code",
   "execution_count": 11,
   "metadata": {},
   "outputs": [
    {
     "data": {
      "text/html": [
       "<div>\n",
       "<style scoped>\n",
       "    .dataframe tbody tr th:only-of-type {\n",
       "        vertical-align: middle;\n",
       "    }\n",
       "\n",
       "    .dataframe tbody tr th {\n",
       "        vertical-align: top;\n",
       "    }\n",
       "\n",
       "    .dataframe thead th {\n",
       "        text-align: right;\n",
       "    }\n",
       "</style>\n",
       "<table border=\"1\" class=\"dataframe\">\n",
       "  <thead>\n",
       "    <tr style=\"text-align: right;\">\n",
       "      <th></th>\n",
       "      <th>_id</th>\n",
       "      <th>class_</th>\n",
       "      <th>comments</th>\n",
       "      <th>topic</th>\n",
       "      <th>topic_id</th>\n",
       "      <th>url</th>\n",
       "      <th>view_count</th>\n",
       "      <th>no_comm</th>\n",
       "    </tr>\n",
       "  </thead>\n",
       "  <tbody>\n",
       "    <tr>\n",
       "      <th>877</th>\n",
       "      <td>{'$oid': '5ddd2c0b29bb729ddffd75d7'}</td>\n",
       "      <td>[ General  ,  kadejayi - Kayode or Kay (5217 V...</td>\n",
       "      <td>[{'user': 'kadejayi', 'timestamp': '10:08am On...</td>\n",
       "      <td>kadejayi - Kayode or Kay - Nairaland / General...</td>\n",
       "      <td>1290</td>\n",
       "      <td>https://www.nairaland.com/1290/kadejayi-kayode...</td>\n",
       "      <td>5217</td>\n",
       "      <td>288</td>\n",
       "    </tr>\n",
       "    <tr>\n",
       "      <th>930</th>\n",
       "      <td>{'$oid': '5ddd2c4529bb729ddffd760c'}</td>\n",
       "      <td>[ General ,  Romance ,  Dating And Meet-up Zon...</td>\n",
       "      <td>[{'user': 'WesleyanA', 'timestamp': '10:45pm O...</td>\n",
       "      <td>Nairaland Couples - Dating And Meet-up Zone - ...</td>\n",
       "      <td>1373</td>\n",
       "      <td>https://www.nairaland.com/1373/nairaland-couples</td>\n",
       "      <td>5502</td>\n",
       "      <td>288</td>\n",
       "    </tr>\n",
       "    <tr>\n",
       "      <th>49161</th>\n",
       "      <td>{'$oid': '5dddab4b29bb729ddffe3273'}</td>\n",
       "      <td>[ Forum Games  ,  Song Game (6172 Views) ]</td>\n",
       "      <td>[{'user': 'luxoire', 'timestamp': '11:47am On ...</td>\n",
       "      <td>Song Game - Forum Games - Nigeria</td>\n",
       "      <td>64862</td>\n",
       "      <td>https://www.nairaland.com/64862/song-game</td>\n",
       "      <td>6172</td>\n",
       "      <td>288</td>\n",
       "    </tr>\n",
       "    <tr>\n",
       "      <th>1048</th>\n",
       "      <td>{'$oid': '5ddd2cca29bb729ddffd7682'}</td>\n",
       "      <td>[ General  ,  DE-KING, Unique &amp; Simply Authent...</td>\n",
       "      <td>[{'user': 'DEKING3', 'timestamp': '11:48am On ...</td>\n",
       "      <td>DE-KING, Unique &amp; Simply Authentic - Nairaland...</td>\n",
       "      <td>1558</td>\n",
       "      <td>https://www.nairaland.com/1558/de-king-unique-...</td>\n",
       "      <td>6477</td>\n",
       "      <td>288</td>\n",
       "    </tr>\n",
       "    <tr>\n",
       "      <th>10669</th>\n",
       "      <td>{'$oid': '5ddd4bbf29bb729ddffd9c17'}</td>\n",
       "      <td>[ Forum Games  ,  Like Him, her,like It Dont L...</td>\n",
       "      <td>[{'user': 'eveseh', 'timestamp': '3:15pm On Ju...</td>\n",
       "      <td>Like Him/her,like It Dont Like It - Forum Game...</td>\n",
       "      <td>14649</td>\n",
       "      <td>https://www.nairaland.com/14649/like-him-herli...</td>\n",
       "      <td>7171</td>\n",
       "      <td>288</td>\n",
       "    </tr>\n",
       "  </tbody>\n",
       "</table>\n",
       "</div>"
      ],
      "text/plain": [
       "                                        _id  \\\n",
       "877    {'$oid': '5ddd2c0b29bb729ddffd75d7'}   \n",
       "930    {'$oid': '5ddd2c4529bb729ddffd760c'}   \n",
       "49161  {'$oid': '5dddab4b29bb729ddffe3273'}   \n",
       "1048   {'$oid': '5ddd2cca29bb729ddffd7682'}   \n",
       "10669  {'$oid': '5ddd4bbf29bb729ddffd9c17'}   \n",
       "\n",
       "                                                  class_  \\\n",
       "877    [ General  ,  kadejayi - Kayode or Kay (5217 V...   \n",
       "930    [ General ,  Romance ,  Dating And Meet-up Zon...   \n",
       "49161         [ Forum Games  ,  Song Game (6172 Views) ]   \n",
       "1048   [ General  ,  DE-KING, Unique & Simply Authent...   \n",
       "10669  [ Forum Games  ,  Like Him, her,like It Dont L...   \n",
       "\n",
       "                                                comments  \\\n",
       "877    [{'user': 'kadejayi', 'timestamp': '10:08am On...   \n",
       "930    [{'user': 'WesleyanA', 'timestamp': '10:45pm O...   \n",
       "49161  [{'user': 'luxoire', 'timestamp': '11:47am On ...   \n",
       "1048   [{'user': 'DEKING3', 'timestamp': '11:48am On ...   \n",
       "10669  [{'user': 'eveseh', 'timestamp': '3:15pm On Ju...   \n",
       "\n",
       "                                                   topic  topic_id  \\\n",
       "877    kadejayi - Kayode or Kay - Nairaland / General...      1290   \n",
       "930    Nairaland Couples - Dating And Meet-up Zone - ...      1373   \n",
       "49161                  Song Game - Forum Games - Nigeria     64862   \n",
       "1048   DE-KING, Unique & Simply Authentic - Nairaland...      1558   \n",
       "10669  Like Him/her,like It Dont Like It - Forum Game...     14649   \n",
       "\n",
       "                                                     url  view_count  no_comm  \n",
       "877    https://www.nairaland.com/1290/kadejayi-kayode...        5217      288  \n",
       "930     https://www.nairaland.com/1373/nairaland-couples        5502      288  \n",
       "49161          https://www.nairaland.com/64862/song-game        6172      288  \n",
       "1048   https://www.nairaland.com/1558/de-king-unique-...        6477      288  \n",
       "10669  https://www.nairaland.com/14649/like-him-herli...        7171      288  "
      ]
     },
     "execution_count": 11,
     "metadata": {},
     "output_type": "execute_result"
    }
   ],
   "source": [
    "top_comm = data.sort_values(by = 'no_comm', ascending=False)\n",
    "top_comm[top_comm['no_comm'] == 288].sort_values(by = 'view_count', ascending=True).head()"
   ]
  },
  {
   "cell_type": "markdown",
   "metadata": {},
   "source": [
    "### Despite the fact that this [post](https://www.nairaland.com/1290/kadejayi-kayode-kay) had the lowest number of views, it still racked up the highest number of comments"
   ]
  },
  {
   "cell_type": "markdown",
   "metadata": {},
   "source": [
    "# Category\n",
    "\n",
    "Category in [nairaland](https://www.nairaland.com/) talks about which section or tag a post will fall under. Various categories can be seen in the image below."
   ]
  },
  {
   "attachments": {
    "image.png": {
     "image/png": "[encoded data removed]"
    }
   },
   "cell_type": "markdown",
   "metadata": {},
   "source": [
    "![image.png](attachment:image.png)"
   ]
  },
  {
   "cell_type": "code",
   "execution_count": 12,
   "metadata": {},
   "outputs": [
    {
     "data": {
      "text/html": [
       "<div>\n",
       "<style scoped>\n",
       "    .dataframe tbody tr th:only-of-type {\n",
       "        vertical-align: middle;\n",
       "    }\n",
       "\n",
       "    .dataframe tbody tr th {\n",
       "        vertical-align: top;\n",
       "    }\n",
       "\n",
       "    .dataframe thead th {\n",
       "        text-align: right;\n",
       "    }\n",
       "</style>\n",
       "<table border=\"1\" class=\"dataframe\">\n",
       "  <thead>\n",
       "    <tr style=\"text-align: right;\">\n",
       "      <th></th>\n",
       "      <th>_id</th>\n",
       "      <th>class_</th>\n",
       "      <th>comments</th>\n",
       "      <th>topic</th>\n",
       "      <th>topic_id</th>\n",
       "      <th>url</th>\n",
       "      <th>view_count</th>\n",
       "      <th>no_comm</th>\n",
       "      <th>category</th>\n",
       "    </tr>\n",
       "  </thead>\n",
       "  <tbody>\n",
       "    <tr>\n",
       "      <th>0</th>\n",
       "      <td>{'$oid': '5ddd27c829bb729ddffd726a'}</td>\n",
       "      <td>[ TV, Movies  ,  Low-cost Digital Cable in Nig...</td>\n",
       "      <td>[{'user': 'kodewrita', 'timestamp': '4:39pm On...</td>\n",
       "      <td>Low-cost Digital Cable in Nigeria - TV/Movies ...</td>\n",
       "      <td>18</td>\n",
       "      <td>https://www.nairaland.com/18/low-cost-digital-...</td>\n",
       "      <td>7821</td>\n",
       "      <td>18</td>\n",
       "      <td>TV</td>\n",
       "    </tr>\n",
       "    <tr>\n",
       "      <th>1</th>\n",
       "      <td>{'$oid': '5ddd27c929bb729ddffd726b'}</td>\n",
       "      <td>[ General ,  Religion  ,  Praying Amiss (3459 ...</td>\n",
       "      <td>[{'user': 'kodewrita', 'timestamp': '6:11pm On...</td>\n",
       "      <td>Praying Amiss - Religion - Nigeria</td>\n",
       "      <td>20</td>\n",
       "      <td>https://www.nairaland.com/20/praying-amiss</td>\n",
       "      <td>3459</td>\n",
       "      <td>5</td>\n",
       "      <td>General</td>\n",
       "    </tr>\n",
       "    <tr>\n",
       "      <th>2</th>\n",
       "      <td>{'$oid': '5ddd27c929bb729ddffd726c'}</td>\n",
       "      <td>[ General ,  Family  ,  Family Relationship (4...</td>\n",
       "      <td>[{'user': 'Chigszy', 'timestamp': '6:37pm On M...</td>\n",
       "      <td>Family Relationship - Family - Nigeria</td>\n",
       "      <td>14</td>\n",
       "      <td>https://www.nairaland.com/14/family-relationship</td>\n",
       "      <td>4847</td>\n",
       "      <td>12</td>\n",
       "      <td>General</td>\n",
       "    </tr>\n",
       "    <tr>\n",
       "      <th>3</th>\n",
       "      <td>{'$oid': '5ddd27cc29bb729ddffd726d'}</td>\n",
       "      <td>[ General  ,  New Members, Introduce Yourselve...</td>\n",
       "      <td>[{'user': 'dominobaby', 'timestamp': '1:51pm O...</td>\n",
       "      <td>New Members, Introduce Yourselves! - Nairaland...</td>\n",
       "      <td>15</td>\n",
       "      <td>https://www.nairaland.com/15/new-members-intro...</td>\n",
       "      <td>4423</td>\n",
       "      <td>155</td>\n",
       "      <td>General</td>\n",
       "    </tr>\n",
       "    <tr>\n",
       "      <th>4</th>\n",
       "      <td>{'$oid': '5ddd27d029bb729ddffd726e'}</td>\n",
       "      <td>[ General ,  Family  ,  Domesticating Nigerian...</td>\n",
       "      <td>[{'user': 'Chigszy', 'timestamp': '2:33am On M...</td>\n",
       "      <td>Domesticating Nigerian Men - Family - Nigeria</td>\n",
       "      <td>19</td>\n",
       "      <td>https://www.nairaland.com/19/domesticating-nig...</td>\n",
       "      <td>10305</td>\n",
       "      <td>192</td>\n",
       "      <td>General</td>\n",
       "    </tr>\n",
       "  </tbody>\n",
       "</table>\n",
       "</div>"
      ],
      "text/plain": [
       "                                    _id  \\\n",
       "0  {'$oid': '5ddd27c829bb729ddffd726a'}   \n",
       "1  {'$oid': '5ddd27c929bb729ddffd726b'}   \n",
       "2  {'$oid': '5ddd27c929bb729ddffd726c'}   \n",
       "3  {'$oid': '5ddd27cc29bb729ddffd726d'}   \n",
       "4  {'$oid': '5ddd27d029bb729ddffd726e'}   \n",
       "\n",
       "                                              class_  \\\n",
       "0  [ TV, Movies  ,  Low-cost Digital Cable in Nig...   \n",
       "1  [ General ,  Religion  ,  Praying Amiss (3459 ...   \n",
       "2  [ General ,  Family  ,  Family Relationship (4...   \n",
       "3  [ General  ,  New Members, Introduce Yourselve...   \n",
       "4  [ General ,  Family  ,  Domesticating Nigerian...   \n",
       "\n",
       "                                            comments  \\\n",
       "0  [{'user': 'kodewrita', 'timestamp': '4:39pm On...   \n",
       "1  [{'user': 'kodewrita', 'timestamp': '6:11pm On...   \n",
       "2  [{'user': 'Chigszy', 'timestamp': '6:37pm On M...   \n",
       "3  [{'user': 'dominobaby', 'timestamp': '1:51pm O...   \n",
       "4  [{'user': 'Chigszy', 'timestamp': '2:33am On M...   \n",
       "\n",
       "                                               topic  topic_id  \\\n",
       "0  Low-cost Digital Cable in Nigeria - TV/Movies ...        18   \n",
       "1                 Praying Amiss - Religion - Nigeria        20   \n",
       "2             Family Relationship - Family - Nigeria        14   \n",
       "3  New Members, Introduce Yourselves! - Nairaland...        15   \n",
       "4      Domesticating Nigerian Men - Family - Nigeria        19   \n",
       "\n",
       "                                                 url  view_count  no_comm  \\\n",
       "0  https://www.nairaland.com/18/low-cost-digital-...        7821       18   \n",
       "1         https://www.nairaland.com/20/praying-amiss        3459        5   \n",
       "2   https://www.nairaland.com/14/family-relationship        4847       12   \n",
       "3  https://www.nairaland.com/15/new-members-intro...        4423      155   \n",
       "4  https://www.nairaland.com/19/domesticating-nig...       10305      192   \n",
       "\n",
       "  category  \n",
       "0       TV  \n",
       "1  General  \n",
       "2  General  \n",
       "3  General  \n",
       "4  General  "
      ]
     },
     "execution_count": 12,
     "metadata": {},
     "output_type": "execute_result"
    }
   ],
   "source": [
    "#Create a new column showing which category(or tag) the post can be found in\n",
    "\n",
    "def ind_class(df):\n",
    "    #This function strips each string on whitespace to avoid duplicates and returns the first string in the list\n",
    "    \n",
    "    i = [val.strip(' ') for val in df]\n",
    "    return i[0]\n",
    "\n",
    "#The apply method is used to do a row wise execution of the function which is faster tha a for loop\n",
    "\n",
    "data['category'] = data['class_'].apply(ind_class)\n",
    "data.head()"
   ]
  },
  {
   "cell_type": "code",
   "execution_count": 13,
   "metadata": {},
   "outputs": [
    {
     "data": {
      "text/html": [
       "<div>\n",
       "<style scoped>\n",
       "    .dataframe tbody tr th:only-of-type {\n",
       "        vertical-align: middle;\n",
       "    }\n",
       "\n",
       "    .dataframe tbody tr th {\n",
       "        vertical-align: top;\n",
       "    }\n",
       "\n",
       "    .dataframe thead th {\n",
       "        text-align: right;\n",
       "    }\n",
       "</style>\n",
       "<table border=\"1\" class=\"dataframe\">\n",
       "  <thead>\n",
       "    <tr style=\"text-align: right;\">\n",
       "      <th></th>\n",
       "      <th>no_comm</th>\n",
       "      <th>view_count</th>\n",
       "    </tr>\n",
       "    <tr>\n",
       "      <th>category</th>\n",
       "      <th></th>\n",
       "      <th></th>\n",
       "    </tr>\n",
       "  </thead>\n",
       "  <tbody>\n",
       "    <tr>\n",
       "      <th>General</th>\n",
       "      <td>592161</td>\n",
       "      <td>104989715</td>\n",
       "    </tr>\n",
       "    <tr>\n",
       "      <th>Technology</th>\n",
       "      <td>52772</td>\n",
       "      <td>15360503</td>\n",
       "    </tr>\n",
       "    <tr>\n",
       "      <th>Sports</th>\n",
       "      <td>52361</td>\n",
       "      <td>5942467</td>\n",
       "    </tr>\n",
       "    <tr>\n",
       "      <th>Forum Games</th>\n",
       "      <td>50215</td>\n",
       "      <td>6391705</td>\n",
       "    </tr>\n",
       "    <tr>\n",
       "      <th>Music</th>\n",
       "      <td>49755</td>\n",
       "      <td>9540717</td>\n",
       "    </tr>\n",
       "  </tbody>\n",
       "</table>\n",
       "</div>"
      ],
      "text/plain": [
       "             no_comm  view_count\n",
       "category                        \n",
       "General       592161   104989715\n",
       "Technology     52772    15360503\n",
       "Sports         52361     5942467\n",
       "Forum Games    50215     6391705\n",
       "Music          49755     9540717"
      ]
     },
     "execution_count": 13,
     "metadata": {},
     "output_type": "execute_result"
    }
   ],
   "source": [
    "#Pivot table showing how many comments topics and views\n",
    "\n",
    "category_pivot = data.pivot_table(values=['no_comm', 'view_count'], index='category', aggfunc=np.sum)\n",
    "\n",
    "#Category with the highest number of comments\n",
    "category_pivot.sort_values(by='no_comm', ascending=False).head()"
   ]
  },
  {
   "cell_type": "code",
   "execution_count": 14,
   "metadata": {},
   "outputs": [],
   "source": [
    "#Visualize the result\n",
    "\n",
    "import matplotlib.pyplot as plt\n",
    "import matplotlib.style as style\n",
    "\n",
    "%matplotlib inline\n",
    "style.use('fivethirtyeight')"
   ]
  },
  {
   "cell_type": "code",
   "execution_count": 15,
   "metadata": {},
   "outputs": [
    {
     "data": {
      "image/png": "[encoded data removed]",
      "text/plain": [
       "<Figure size 864x360 with 1 Axes>"
      ]
     },
     "metadata": {
      "needs_background": "light"
     },
     "output_type": "display_data"
    }
   ],
   "source": [
    "top_five_category_by_comm = category_pivot.sort_values(by='no_comm', ascending=False).head()\n",
    "top_five_category_by_comm['no_comm'].plot(kind='bar',\n",
    "                              figsize=(12,5),\n",
    "                              rot=0,\n",
    "                              colormap = plt.cm.BuGn_r,\n",
    "                              title = 'Top Five Categories By Number of Comments')\n",
    "plt.ylabel('Total Number of Comments')\n",
    "plt.grid()\n",
    "plt.show()"
   ]
  },
  {
   "cell_type": "code",
   "execution_count": 16,
   "metadata": {},
   "outputs": [
    {
     "data": {
      "image/png": "[encoded data removed]",
      "text/plain": [
       "<Figure size 864x360 with 1 Axes>"
      ]
     },
     "metadata": {
      "needs_background": "light"
     },
     "output_type": "display_data"
    }
   ],
   "source": [
    "top_five_category_by_comm['view_count'].plot(kind='bar',\n",
    "                              figsize=(12,5),\n",
    "                              rot=0,\n",
    "                              colormap = plt.cm.PuOr_r,\n",
    "                              title = 'Top Five Categories By Number of Views')\n",
    "plt.ylabel('Total Number of Views')\n",
    "plt.grid()\n",
    "plt.show()"
   ]
  },
  {
   "cell_type": "markdown",
   "metadata": {},
   "source": [
    "##### _The General category have over a 100 million views and 50,000 comments_"
   ]
  },
  {
   "cell_type": "markdown",
   "metadata": {},
   "source": [
    "# The Top Post"
   ]
  },
  {
   "cell_type": "markdown",
   "metadata": {},
   "source": [
    "- The post with the highest number of views will be analyzed to see if insights like topic and gender variation can be seen"
   ]
  },
  {
   "cell_type": "code",
   "execution_count": 17,
   "metadata": {},
   "outputs": [
    {
     "data": {
      "text/plain": [
       "1420502"
      ]
     },
     "execution_count": 17,
     "metadata": {},
     "output_type": "execute_result"
    }
   ],
   "source": [
    "np.max(data['view_count'])"
   ]
  },
  {
   "cell_type": "code",
   "execution_count": 18,
   "metadata": {},
   "outputs": [
    {
     "data": {
      "text/html": [
       "<div>\n",
       "<style scoped>\n",
       "    .dataframe tbody tr th:only-of-type {\n",
       "        vertical-align: middle;\n",
       "    }\n",
       "\n",
       "    .dataframe tbody tr th {\n",
       "        vertical-align: top;\n",
       "    }\n",
       "\n",
       "    .dataframe thead th {\n",
       "        text-align: right;\n",
       "    }\n",
       "</style>\n",
       "<table border=\"1\" class=\"dataframe\">\n",
       "  <thead>\n",
       "    <tr style=\"text-align: right;\">\n",
       "      <th></th>\n",
       "      <th>_id</th>\n",
       "      <th>class_</th>\n",
       "      <th>comments</th>\n",
       "      <th>topic</th>\n",
       "      <th>topic_id</th>\n",
       "      <th>url</th>\n",
       "      <th>view_count</th>\n",
       "      <th>no_comm</th>\n",
       "      <th>category</th>\n",
       "    </tr>\n",
       "  </thead>\n",
       "  <tbody>\n",
       "    <tr>\n",
       "      <th>39156</th>\n",
       "      <td>{'$oid': '5ddd932e29bb729ddffe0b5e'}</td>\n",
       "      <td>[ General ,  Travel  ,  Nairobi Photos (kenya)...</td>\n",
       "      <td>[{'user': 'Constantin', 'timestamp': '4:05pm O...</td>\n",
       "      <td>Nairobi Photos (kenya): A Beautiful East Afric...</td>\n",
       "      <td>51356</td>\n",
       "      <td>https://www.nairaland.com/51356/nairobi-photos...</td>\n",
       "      <td>1420502</td>\n",
       "      <td>284</td>\n",
       "      <td>General</td>\n",
       "    </tr>\n",
       "  </tbody>\n",
       "</table>\n",
       "</div>"
      ],
      "text/plain": [
       "                                        _id  \\\n",
       "39156  {'$oid': '5ddd932e29bb729ddffe0b5e'}   \n",
       "\n",
       "                                                  class_  \\\n",
       "39156  [ General ,  Travel  ,  Nairobi Photos (kenya)...   \n",
       "\n",
       "                                                comments  \\\n",
       "39156  [{'user': 'Constantin', 'timestamp': '4:05pm O...   \n",
       "\n",
       "                                                   topic  topic_id  \\\n",
       "39156  Nairobi Photos (kenya): A Beautiful East Afric...     51356   \n",
       "\n",
       "                                                     url  view_count  no_comm  \\\n",
       "39156  https://www.nairaland.com/51356/nairobi-photos...     1420502      284   \n",
       "\n",
       "      category  \n",
       "39156  General  "
      ]
     },
     "execution_count": 18,
     "metadata": {},
     "output_type": "execute_result"
    }
   ],
   "source": [
    "data[data['view_count'] == np.max(data['view_count'])]"
   ]
  },
  {
   "cell_type": "code",
   "execution_count": 19,
   "metadata": {},
   "outputs": [
    {
     "data": {
      "text/plain": [
       "_id                        {'$oid': '5ddd932e29bb729ddffe0b5e'}\n",
       "class_        [ General ,  Travel  ,  Nairobi Photos (kenya)...\n",
       "comments      [{'user': 'Constantin', 'timestamp': '4:05pm O...\n",
       "topic         Nairobi Photos (kenya): A Beautiful East Afric...\n",
       "topic_id                                                  51356\n",
       "url           https://www.nairaland.com/51356/nairobi-photos...\n",
       "view_count                                              1420502\n",
       "no_comm                                                     284\n",
       "category                                                General\n",
       "Name: 39156, dtype: object"
      ]
     },
     "execution_count": 19,
     "metadata": {},
     "output_type": "execute_result"
    }
   ],
   "source": [
    "#Using the index of the post with the highest number of views\n",
    "top_post = data.iloc[39155,]\n",
    "top_post"
   ]
  },
  {
   "cell_type": "markdown",
   "metadata": {},
   "source": [
    "#### The post with the highest view from March 25 2005 till July 14 2007 at the time the data was spooled can be found [here](https://www.nairaland.com/51356/nairobi-photos...)"
   ]
  },
  {
   "cell_type": "code",
   "execution_count": 20,
   "metadata": {},
   "outputs": [],
   "source": [
    "#The comments in this post will be analyzed\n",
    "\n",
    "top_post_comm = {}\n",
    "counter = 0\n",
    "for i in top_post['comments']:\n",
    "    top_post_comm[counter] = i\n",
    "    counter += 1\n"
   ]
  },
  {
   "cell_type": "code",
   "execution_count": 21,
   "metadata": {},
   "outputs": [
    {
     "data": {
      "text/html": [
       "<div>\n",
       "<style scoped>\n",
       "    .dataframe tbody tr th:only-of-type {\n",
       "        vertical-align: middle;\n",
       "    }\n",
       "\n",
       "    .dataframe tbody tr th {\n",
       "        vertical-align: top;\n",
       "    }\n",
       "\n",
       "    .dataframe thead th {\n",
       "        text-align: right;\n",
       "    }\n",
       "</style>\n",
       "<table border=\"1\" class=\"dataframe\">\n",
       "  <thead>\n",
       "    <tr style=\"text-align: right;\">\n",
       "      <th></th>\n",
       "      <th>attachments</th>\n",
       "      <th>pageId</th>\n",
       "      <th>sex</th>\n",
       "      <th>text</th>\n",
       "      <th>timestamp</th>\n",
       "      <th>user</th>\n",
       "    </tr>\n",
       "  </thead>\n",
       "  <tbody>\n",
       "    <tr>\n",
       "      <th>0</th>\n",
       "      <td>[]</td>\n",
       "      <td>0</td>\n",
       "      <td>f</td>\n",
       "      <td>Nairobi capital of Kenya. It is one of AfricaÂ...</td>\n",
       "      <td>4:05pm On Apr 30, 2007</td>\n",
       "      <td>Constantin</td>\n",
       "    </tr>\n",
       "    <tr>\n",
       "      <th>1</th>\n",
       "      <td>[]</td>\n",
       "      <td>0</td>\n",
       "      <td>f</td>\n",
       "      <td>This is NairobiÂ´s Central Park Old British st...</td>\n",
       "      <td>2:25pm On May 01, 2007</td>\n",
       "      <td>Constantin</td>\n",
       "    </tr>\n",
       "    <tr>\n",
       "      <th>2</th>\n",
       "      <td>[]</td>\n",
       "      <td>0</td>\n",
       "      <td>m</td>\n",
       "      <td>I have not had the good fortune to visit Nairo...</td>\n",
       "      <td>2:35pm On May 01, 2007</td>\n",
       "      <td>VOR</td>\n",
       "    </tr>\n",
       "    <tr>\n",
       "      <th>3</th>\n",
       "      <td>[]</td>\n",
       "      <td>0</td>\n",
       "      <td>f</td>\n",
       "      <td>Very nice pictures.But I was watching the Amer...</td>\n",
       "      <td>1:29pm On May 02, 2007</td>\n",
       "      <td>omoge</td>\n",
       "    </tr>\n",
       "    <tr>\n",
       "      <th>4</th>\n",
       "      <td>[]</td>\n",
       "      <td>0</td>\n",
       "      <td>f</td>\n",
       "      <td>Lovely city, However they have very poor slum ...</td>\n",
       "      <td>3:14pm On May 02, 2007</td>\n",
       "      <td>londoner</td>\n",
       "    </tr>\n",
       "  </tbody>\n",
       "</table>\n",
       "</div>"
      ],
      "text/plain": [
       "  attachments pageId sex                                               text  \\\n",
       "0          []      0   f  Nairobi capital of Kenya. It is one of AfricaÂ...   \n",
       "1          []      0   f  This is NairobiÂ´s Central Park Old British st...   \n",
       "2          []      0   m  I have not had the good fortune to visit Nairo...   \n",
       "3          []      0   f  Very nice pictures.But I was watching the Amer...   \n",
       "4          []      0   f  Lovely city, However they have very poor slum ...   \n",
       "\n",
       "                 timestamp        user  \n",
       "0  4:05pm On Apr 30, 2007   Constantin  \n",
       "1  2:25pm On May 01, 2007   Constantin  \n",
       "2  2:35pm On May 01, 2007          VOR  \n",
       "3  1:29pm On May 02, 2007        omoge  \n",
       "4  3:14pm On May 02, 2007     londoner  "
      ]
     },
     "execution_count": 21,
     "metadata": {},
     "output_type": "execute_result"
    }
   ],
   "source": [
    "#Convert the dictionary into a Dataframe\n",
    "\n",
    "top_post_comm_df = pd.DataFrame(top_post_comm)\n",
    "top_post_comm_df = top_post_comm_df.transpose()\n",
    "top_post_comm_df.head()"
   ]
  },
  {
   "cell_type": "code",
   "execution_count": 22,
   "metadata": {},
   "outputs": [
    {
     "data": {
      "text/plain": [
       "f    0.503521\n",
       "m    0.496479\n",
       "Name: sex, dtype: float64"
      ]
     },
     "execution_count": 22,
     "metadata": {},
     "output_type": "execute_result"
    }
   ],
   "source": [
    "top_post_comm_df['sex'].value_counts(dropna=False, normalize=True)"
   ]
  },
  {
   "cell_type": "code",
   "execution_count": 23,
   "metadata": {},
   "outputs": [
    {
     "data": {
      "image/png": "[encoded data removed]",
      "text/plain": [
       "<Figure size 504x504 with 1 Axes>"
      ]
     },
     "metadata": {},
     "output_type": "display_data"
    }
   ],
   "source": [
    "#visualize the result\n",
    "\n",
    "top_post_comm_df['sex'].value_counts(dropna=False, normalize=True).plot(\n",
    "                                                             kind = 'pie',\n",
    "                                                             title = 'Gender Distribution on The Post With The hIghest Views',\n",
    "                                                             labels = ['female', 'male'],\n",
    "                                                             autopct = '%2.2f%%',\n",
    "                                                             figsize=(7,7)\n",
    "                                                                        )\n",
    "plt.grid()\n",
    "plt.show()"
   ]
  },
  {
   "cell_type": "markdown",
   "metadata": {},
   "source": [
    "__The chart above shows an almost even distribution between the number of comments of men and women.__"
   ]
  },
  {
   "cell_type": "markdown",
   "metadata": {},
   "source": [
    "# Analyzing the 'When'"
   ]
  },
  {
   "cell_type": "markdown",
   "metadata": {},
   "source": [
    "- We will look into the timestam column and have a glimpe of the distribution of the dates there"
   ]
  },
  {
   "cell_type": "code",
   "execution_count": 24,
   "metadata": {},
   "outputs": [
    {
     "name": "stdout",
     "output_type": "stream",
     "text": [
      "<class 'pandas.core.frame.DataFrame'>\n",
      "Int64Index: 284 entries, 0 to 283\n",
      "Data columns (total 6 columns):\n",
      "attachments    284 non-null object\n",
      "pageId         284 non-null object\n",
      "sex            284 non-null object\n",
      "text           284 non-null object\n",
      "timestamp      284 non-null datetime64[ns]\n",
      "user           284 non-null object\n",
      "dtypes: datetime64[ns](1), object(5)\n",
      "memory usage: 15.5+ KB\n"
     ]
    }
   ],
   "source": [
    "import datetime as dt\n",
    "\n",
    "#convert the timestamp column to datetime object\n",
    "top_post_comm_df['timestamp'] = pd.to_datetime(top_post_comm_df['timestamp'])\n",
    "\n",
    "top_post_comm_df.info()"
   ]
  },
  {
   "cell_type": "code",
   "execution_count": 25,
   "metadata": {},
   "outputs": [
    {
     "data": {
      "text/html": [
       "<div>\n",
       "<style scoped>\n",
       "    .dataframe tbody tr th:only-of-type {\n",
       "        vertical-align: middle;\n",
       "    }\n",
       "\n",
       "    .dataframe tbody tr th {\n",
       "        vertical-align: top;\n",
       "    }\n",
       "\n",
       "    .dataframe thead th {\n",
       "        text-align: right;\n",
       "    }\n",
       "</style>\n",
       "<table border=\"1\" class=\"dataframe\">\n",
       "  <thead>\n",
       "    <tr style=\"text-align: right;\">\n",
       "      <th></th>\n",
       "      <th>attachments</th>\n",
       "      <th>pageId</th>\n",
       "      <th>sex</th>\n",
       "      <th>text</th>\n",
       "      <th>timestamp</th>\n",
       "      <th>user</th>\n",
       "      <th>year</th>\n",
       "      <th>month</th>\n",
       "    </tr>\n",
       "  </thead>\n",
       "  <tbody>\n",
       "    <tr>\n",
       "      <th>0</th>\n",
       "      <td>[]</td>\n",
       "      <td>0</td>\n",
       "      <td>f</td>\n",
       "      <td>Nairobi capital of Kenya. It is one of AfricaÂ...</td>\n",
       "      <td>2007-04-30 16:05:00</td>\n",
       "      <td>Constantin</td>\n",
       "      <td>2007</td>\n",
       "      <td>April</td>\n",
       "    </tr>\n",
       "    <tr>\n",
       "      <th>1</th>\n",
       "      <td>[]</td>\n",
       "      <td>0</td>\n",
       "      <td>f</td>\n",
       "      <td>This is NairobiÂ´s Central Park Old British st...</td>\n",
       "      <td>2007-05-01 14:25:00</td>\n",
       "      <td>Constantin</td>\n",
       "      <td>2007</td>\n",
       "      <td>May</td>\n",
       "    </tr>\n",
       "    <tr>\n",
       "      <th>2</th>\n",
       "      <td>[]</td>\n",
       "      <td>0</td>\n",
       "      <td>m</td>\n",
       "      <td>I have not had the good fortune to visit Nairo...</td>\n",
       "      <td>2007-05-01 14:35:00</td>\n",
       "      <td>VOR</td>\n",
       "      <td>2007</td>\n",
       "      <td>May</td>\n",
       "    </tr>\n",
       "    <tr>\n",
       "      <th>3</th>\n",
       "      <td>[]</td>\n",
       "      <td>0</td>\n",
       "      <td>f</td>\n",
       "      <td>Very nice pictures.But I was watching the Amer...</td>\n",
       "      <td>2007-05-02 13:29:00</td>\n",
       "      <td>omoge</td>\n",
       "      <td>2007</td>\n",
       "      <td>May</td>\n",
       "    </tr>\n",
       "    <tr>\n",
       "      <th>4</th>\n",
       "      <td>[]</td>\n",
       "      <td>0</td>\n",
       "      <td>f</td>\n",
       "      <td>Lovely city, However they have very poor slum ...</td>\n",
       "      <td>2007-05-02 15:14:00</td>\n",
       "      <td>londoner</td>\n",
       "      <td>2007</td>\n",
       "      <td>May</td>\n",
       "    </tr>\n",
       "  </tbody>\n",
       "</table>\n",
       "</div>"
      ],
      "text/plain": [
       "  attachments pageId sex                                               text  \\\n",
       "0          []      0   f  Nairobi capital of Kenya. It is one of AfricaÂ...   \n",
       "1          []      0   f  This is NairobiÂ´s Central Park Old British st...   \n",
       "2          []      0   m  I have not had the good fortune to visit Nairo...   \n",
       "3          []      0   f  Very nice pictures.But I was watching the Amer...   \n",
       "4          []      0   f  Lovely city, However they have very poor slum ...   \n",
       "\n",
       "            timestamp        user  year  month  \n",
       "0 2007-04-30 16:05:00  Constantin  2007  April  \n",
       "1 2007-05-01 14:25:00  Constantin  2007    May  \n",
       "2 2007-05-01 14:35:00         VOR  2007    May  \n",
       "3 2007-05-02 13:29:00       omoge  2007    May  \n",
       "4 2007-05-02 15:14:00    londoner  2007    May  "
      ]
     },
     "execution_count": 25,
     "metadata": {},
     "output_type": "execute_result"
    }
   ],
   "source": [
    "#create the year column and month column\n",
    "top_post_comm_df['year'] = top_post_comm_df['timestamp'].dt.year\n",
    "top_post_comm_df['month'] =top_post_comm_df['timestamp'].dt.strftime('%B')\n",
    "top_post_comm_df.head()"
   ]
  },
  {
   "cell_type": "code",
   "execution_count": 26,
   "metadata": {},
   "outputs": [
    {
     "data": {
      "text/plain": [
       "2007    0.982394\n",
       "2008    0.017606\n",
       "Name: year, dtype: float64"
      ]
     },
     "execution_count": 26,
     "metadata": {},
     "output_type": "execute_result"
    }
   ],
   "source": [
    "top_post_comm_df['year'].value_counts(dropna=False, normalize=True)"
   ]
  },
  {
   "cell_type": "code",
   "execution_count": 27,
   "metadata": {},
   "outputs": [
    {
     "data": {
      "text/plain": [
       "December     75\n",
       "August       58\n",
       "September    43\n",
       "October      28\n",
       "July         27\n",
       "June         22\n",
       "November     21\n",
       "January       5\n",
       "May           4\n",
       "April         1\n",
       "Name: month, dtype: int64"
      ]
     },
     "execution_count": 27,
     "metadata": {},
     "output_type": "execute_result"
    }
   ],
   "source": [
    "top_post_comm_df['month'].value_counts(dropna=False)"
   ]
  },
  {
   "cell_type": "markdown",
   "metadata": {},
   "source": [
    "#### _98% of the comments in this post was done in 2007._"
   ]
  },
  {
   "cell_type": "markdown",
   "metadata": {},
   "source": [
    "# Users"
   ]
  },
  {
   "cell_type": "code",
   "execution_count": 28,
   "metadata": {},
   "outputs": [
    {
     "data": {
      "text/plain": [
       "90"
      ]
     },
     "execution_count": 28,
     "metadata": {},
     "output_type": "execute_result"
    }
   ],
   "source": [
    "len(set(top_post_comm_df['user']))"
   ]
  },
  {
   "cell_type": "markdown",
   "metadata": {},
   "source": [
    "__There are Ninety users that commented on this post__"
   ]
  },
  {
   "cell_type": "code",
   "execution_count": 29,
   "metadata": {},
   "outputs": [
    {
     "data": {
      "text/plain": [
       "Ropie         36\n",
       "ignorant      30\n",
       "maasai1       30\n",
       "africanese    23\n",
       "9ja4eva       14\n",
       "Name: user, dtype: int64"
      ]
     },
     "execution_count": 29,
     "metadata": {},
     "output_type": "execute_result"
    }
   ],
   "source": [
    "top_post_comm_df['user'].value_counts(dropna=False).head()"
   ]
  },
  {
   "cell_type": "code",
   "execution_count": 30,
   "metadata": {},
   "outputs": [
    {
     "data": {
      "image/png": "[encoded data removed]",
      "text/plain": [
       "<Figure size 864x360 with 1 Axes>"
      ]
     },
     "metadata": {
      "needs_background": "light"
     },
     "output_type": "display_data"
    }
   ],
   "source": [
    "#Visualize the result\n",
    "\n",
    "top_post_comm_df['user'].value_counts(dropna=False).head().plot(kind='bar',\n",
    "                              figsize=(12,5),\n",
    "                              rot=0,\n",
    "                              colormap = plt.cm.coolwarm_r,\n",
    "                              title = 'Users with highest number of comments')\n",
    "\n",
    "plt.ylabel('Total Number of Comments')\n",
    "plt.xlabel('User')\n",
    "plt.grid()\n",
    "plt.show()"
   ]
  },
  {
   "cell_type": "markdown",
   "metadata": {},
   "source": [
    "# Next Steps\n",
    "\n",
    "The data can be analyzed to answer the following questions\n",
    "\n",
    "- How many users in the dataset?\n",
    "- Which topic do men like most?\n",
    "- Which topic do women like most?"
   ]
  },
  {
   "cell_type": "markdown",
   "metadata": {},
   "source": [
    "# Thank You"
   ]
  }
 ],
 "metadata": {
  "kernelspec": {
   "display_name": "Python 3",
   "language": "python",
   "name": "python3"
  },
  "language_info": {
   "codemirror_mode": {
    "name": "ipython",
    "version": 3
   },
   "file_extension": ".py",
   "mimetype": "text/x-python",
   "name": "python",
   "nbconvert_exporter": "python",
   "pygments_lexer": "ipython3",
   "version": "3.7.0"
  }
 },
 "nbformat": 4,
 "nbformat_minor": 2
}
